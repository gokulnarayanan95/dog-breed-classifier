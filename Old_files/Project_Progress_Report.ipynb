{
 "cells": [
  {
   "cell_type": "markdown",
   "metadata": {},
   "source": [
    "<img src=\"data/Caption_Picture.jpg\">"
   ]
  },
  {
   "cell_type": "markdown",
   "metadata": {},
   "source": [
    "# Dog Breed Identification "
   ]
  },
  {
   "cell_type": "markdown",
   "metadata": {},
   "source": [
    "## Determine the breed of a dog in an image"
   ]
  },
  {
   "cell_type": "markdown",
   "metadata": {},
   "source": [
    "In this project, we are going to model a <b>Convolution Neural Network</b> to identify the breed of a dog from a given image."
   ]
  },
  {
   "cell_type": "markdown",
   "metadata": {},
   "source": [
    "The input will be the <b>RGB</b> values matrix of the pixels in the images, the cnn will then outputs the probability of the dog belonging to each and every breed."
   ]
  },
  {
   "cell_type": "markdown",
   "metadata": {},
   "source": [
    "## Data Set"
   ]
  },
  {
   "cell_type": "markdown",
   "metadata": {},
   "source": [
    "The data set used for the analysis is provided by Stanford Univeristy."
   ]
  },
  {
   "cell_type": "markdown",
   "metadata": {},
   "source": [
    "Link for the dataset: http://vision.stanford.edu/aditya86/ImageNetDogs/"
   ]
  },
  {
   "cell_type": "markdown",
   "metadata": {},
   "source": [
    "#### Data set specifications"
   ]
  },
  {
   "cell_type": "markdown",
   "metadata": {},
   "source": [
    "* __No of classes__ : 120\n",
    "* __No of train images__ : 12000 (_Atleast 100 per class_)\n",
    "* __No of test Images__ : 8550"
   ]
  },
  {
   "cell_type": "markdown",
   "metadata": {},
   "source": [
    "Randomly chosen pics from the data set are shown below:"
   ]
  },
  {
   "cell_type": "markdown",
   "metadata": {},
   "source": [
    "<img src=\"data/sample_images.png\">"
   ]
  },
  {
   "cell_type": "code",
   "execution_count": 2,
   "metadata": {
    "collapsed": true
   },
   "outputs": [],
   "source": [
    "import pandas as pd\n",
    "\n",
    "data_set = pd.read_csv(\"data/data_dict.csv\")"
   ]
  },
  {
   "cell_type": "code",
   "execution_count": 6,
   "metadata": {},
   "outputs": [
    {
     "name": "stdout",
     "output_type": "stream",
     "text": [
      "1. Chihuahua\n",
      "2. Japanese_spaniel\n",
      "3. Maltese_dog\n",
      "4. Pekinese\n",
      "5. Shih-Tzu\n",
      "6. Blenheim_spaniel\n",
      "7. papillon\n",
      "8. toy_terrier\n",
      "9. Rhodesian_ridgeback\n",
      "10. Afghan_hound\n",
      "11. basset\n",
      "12. beagle\n",
      "13. bloodhound\n",
      "14. bluetick\n",
      "15. black-and-tan_coonhound\n",
      "16. Walker_hound\n",
      "17. English_foxhound\n",
      "18. redbone\n",
      "19. borzoi\n",
      "20. Irish_wolfhound\n",
      "21. Italian_greyhound\n",
      "22. whippet\n",
      "23. Ibizan_hound\n",
      "24. Norwegian_elkhound\n",
      "25. otterhound\n",
      "26. Saluki\n",
      "27. Scottish_deerhound\n",
      "28. Weimaraner\n",
      "29. Staffordshire_bullterrier\n",
      "30. American_Staffordshire_terrier\n",
      "31. Bedlington_terrier\n",
      "32. Border_terrier\n",
      "33. Kerry_blue_terrier\n",
      "34. Irish_terrier\n",
      "35. Norfolk_terrier\n",
      "36. Norwich_terrier\n",
      "37. Yorkshire_terrier\n",
      "38. wire-haired_fox_terrier\n",
      "39. Lakeland_terrier\n",
      "40. Sealyham_terrier\n",
      "41. Airedale\n",
      "42. cairn\n",
      "43. Australian_terrier\n",
      "44. Dandie_Dinmont\n",
      "45. Boston_bull\n",
      "46. miniature_schnauzer\n",
      "47. giant_schnauzer\n",
      "48. standard_schnauzer\n",
      "49. Scotch_terrier\n",
      "50. Tibetan_terrier\n",
      "51. silky_terrier\n",
      "52. soft-coated_wheaten_terrier\n",
      "53. West_Highland_white_terrier\n",
      "54. Lhasa\n",
      "55. flat-coated_retriever\n",
      "56. curly-coated_retriever\n",
      "57. golden_retriever\n",
      "58. Labrador_retriever\n",
      "59. Chesapeake_Bay_retriever\n",
      "60. German_short-haired_pointer\n",
      "61. vizsla\n",
      "62. English_setter\n",
      "63. Irish_setter\n",
      "64. Gordon_setter\n",
      "65. Brittany_spaniel\n",
      "66. clumber\n",
      "67. English_springer\n",
      "68. Welsh_springer_spaniel\n",
      "69. cocker_spaniel\n",
      "70. Sussex_spaniel\n",
      "71. Irish_water_spaniel\n",
      "72. kuvasz\n",
      "73. schipperke\n",
      "74. groenendael\n",
      "75. malinois\n",
      "76. briard\n",
      "77. kelpie\n",
      "78. komondor\n",
      "79. Old_English_sheepdog\n",
      "80. Shetland_sheepdog\n",
      "81. collie\n",
      "82. Border_collie\n",
      "83. Bouvier_des_Flandres\n",
      "84. Rottweiler\n",
      "85. German_shepherd\n",
      "86. Doberman\n",
      "87. miniature_pinscher\n",
      "88. Greater_Swiss_Mountain_dog\n",
      "89. Bernese_mountain_dog\n",
      "90. Appenzeller\n",
      "91. EntleBucher\n",
      "92. boxer\n",
      "93. bull_mastiff\n",
      "94. Tibetan_mastiff\n",
      "95. French_bulldog\n",
      "96. Great_Dane\n",
      "97. Saint_Bernard\n",
      "98. Eskimo_dog\n",
      "99. malamute\n",
      "100. Siberian_husky\n",
      "101. affenpinscher\n",
      "102. basenji\n",
      "103. pug\n",
      "104. Leonberg\n",
      "105. Newfoundland\n",
      "106. Great_Pyrenees\n",
      "107. Samoyed\n",
      "108. Pomeranian\n",
      "109. chow\n",
      "110. keeshond\n",
      "111. Brabancon_griffon\n",
      "112. Pembroke\n",
      "113. Cardigan\n",
      "114. toy_poodle\n",
      "115. miniature_poodle\n",
      "116. standard_poodle\n",
      "117. Mexican_hairless\n",
      "118. dingo\n",
      "119. dhole\n",
      "120. African_hunting_dog\n"
     ]
    }
   ],
   "source": [
    "count = 1\n",
    "for breed in data_set[\"breed_name\"].unique():\n",
    "    print(\"%d. %s\" % (count, breed))\n",
    "    count += 1"
   ]
  },
  {
   "cell_type": "markdown",
   "metadata": {},
   "source": [
    "## Project Progress Report"
   ]
  },
  {
   "cell_type": "markdown",
   "metadata": {},
   "source": [
    "<div style=\"width: 100%; display: inline-block;\">\n",
    "    <img src=\"data/project_report.jpg\" style=\"width: 38%; margin: 0px; display: inline; float: left;\">\n",
    "    <div style=\"width: \n",
    "60%; display: inline-block; float: right; font-size: 16px; padding-left: 10px\">\n",
    "        <p>\n",
    "            The images in the dataset are of varying dimensions. But for the analysis, all the images are resized into <b>250 x 250 pixels</b>.<br><br>\n",
    "            We are using color images for the analysis, so each pixel will itself conatins 3 values representing <b>(R, G, B)</b>.<br>\n",
    "        </p>\n",
    "    </div>\n",
    "</div>"
   ]
  },
  {
   "cell_type": "markdown",
   "metadata": {},
   "source": [
    "###  Design of the Convolutional Neural network"
   ]
  },
  {
   "cell_type": "markdown",
   "metadata": {},
   "source": [
    "For the first iteration, we overtook the following design of the convolution neural network:"
   ]
  },
  {
   "cell_type": "markdown",
   "metadata": {},
   "source": [
    "__\n",
    "Input layer: (250, 250, 3)<br>\n",
    "<br>\n",
    "1st Convolution Layer: 32 filters of size 5x5<br>\n",
    "1st Pooling Layer: 2x2 filter with a stride of 2<br>\n",
    "<br>\n",
    "2nd Convolution Layer: 32 filters of size 5x5<br>\n",
    "<br>\n",
    "3rd Convolution Layer: 32 filters of size 5x5<br>\n",
    "2nd Pooling Layer: 2x2 filter with a stride of 2<br>\n",
    "<br>\n",
    "1st Dense Layer: 1024 neurons<br>\n",
    "2nd Dense Layer: 120 neurons (One for each class)<br>\n",
    "__"
   ]
  },
  {
   "cell_type": "markdown",
   "metadata": {},
   "source": [
    "The <b>Convlutional Layer</b> is the core building block of a Convolutional Neural Network that does most of the computational heavy lifting."
   ]
  },
  {
   "cell_type": "markdown",
   "metadata": {},
   "source": [
    "The <b>Pooling Layer</b> is to progressively reduce the spatial size of the representation to reduce the amount of parameters and computation in the network, and hence to also control overfitting."
   ]
  },
  {
   "cell_type": "markdown",
   "metadata": {},
   "source": [
    "The <b>Dense Layer</b> comprises of the traditional neural network which classifies the input to their respective classes."
   ]
  },
  {
   "cell_type": "markdown",
   "metadata": {},
   "source": [
    "### Tools available for modelling the neural networks"
   ]
  },
  {
   "cell_type": "markdown",
   "metadata": {},
   "source": [
    "The most common way to implement any neural network is to use pre-defined libraries instead of designing it from the scratch. The following are the list of libraries that we analysed for this use case:"
   ]
  },
  {
   "cell_type": "markdown",
   "metadata": {},
   "source": [
    "* __Tensorflow__ - https://www.tensorflow.org/\n",
    "* __Keras__ - https://keras.io/\n",
    "* __Theano__ - http://deeplearning.net/software/theano/\n",
    "* __CNTK__ - https://www.microsoft.com/en-us/cognitive-toolkit/"
   ]
  },
  {
   "cell_type": "markdown",
   "metadata": {},
   "source": [
    "We decided to go with __Tensorflow__ due to its ease of use and high level tuning of hyper parameters."
   ]
  },
  {
   "cell_type": "markdown",
   "metadata": {},
   "source": [
    "#### We have implemented the first iteration of the model using tensorflow."
   ]
  },
  {
   "cell_type": "code",
   "execution_count": 15,
   "metadata": {
    "collapsed": true
   },
   "outputs": [],
   "source": [
    "import sys\n",
    "from os.path import expanduser\n",
    "sys.path.append(expanduser(\"~\") + \"/.local/lib/python3.5/site-packages\")"
   ]
  },
  {
   "cell_type": "code",
   "execution_count": 16,
   "metadata": {
    "scrolled": true
   },
   "outputs": [
    {
     "name": "stderr",
     "output_type": "stream",
     "text": [
      "Using TensorFlow backend.\n"
     ]
    },
    {
     "name": "stdout",
     "output_type": "stream",
     "text": [
      "INFO:tensorflow:Using default config.\n"
     ]
    },
    {
     "name": "stderr",
     "output_type": "stream",
     "text": [
      "INFO:tensorflow:Using default config.\n"
     ]
    },
    {
     "name": "stdout",
     "output_type": "stream",
     "text": [
      "INFO:tensorflow:Using config: {'_model_dir': './tmp/model_data', '_tf_random_seed': 1, '_save_summary_steps': 100, '_save_checkpoints_secs': 600, '_save_checkpoints_steps': None, '_session_config': None, '_keep_checkpoint_max': 5, '_keep_checkpoint_every_n_hours': 10000, '_log_step_count_steps': 100}\n"
     ]
    },
    {
     "name": "stderr",
     "output_type": "stream",
     "text": [
      "INFO:tensorflow:Using config: {'_model_dir': './tmp/model_data', '_tf_random_seed': 1, '_save_summary_steps': 100, '_save_checkpoints_secs': 600, '_save_checkpoints_steps': None, '_session_config': None, '_keep_checkpoint_max': 5, '_keep_checkpoint_every_n_hours': 10000, '_log_step_count_steps': 100}\n"
     ]
    },
    {
     "name": "stdout",
     "output_type": "stream",
     "text": [
      "Training the model...\n",
      "INFO:tensorflow:Create CheckpointSaverHook.\n"
     ]
    },
    {
     "name": "stderr",
     "output_type": "stream",
     "text": [
      "INFO:tensorflow:Create CheckpointSaverHook.\n"
     ]
    },
    {
     "name": "stdout",
     "output_type": "stream",
     "text": [
      "INFO:tensorflow:Restoring parameters from ./tmp/model_data/model.ckpt-2000\n"
     ]
    },
    {
     "name": "stderr",
     "output_type": "stream",
     "text": [
      "INFO:tensorflow:Restoring parameters from ./tmp/model_data/model.ckpt-2000\n"
     ]
    },
    {
     "name": "stdout",
     "output_type": "stream",
     "text": [
      "INFO:tensorflow:Saving checkpoints for 2001 into ./tmp/model_data/model.ckpt.\n"
     ]
    },
    {
     "name": "stderr",
     "output_type": "stream",
     "text": [
      "INFO:tensorflow:Saving checkpoints for 2001 into ./tmp/model_data/model.ckpt.\n"
     ]
    },
    {
     "name": "stdout",
     "output_type": "stream",
     "text": [
      "INFO:tensorflow:probabilities = [[ 0.00000036  0.00000011  0.00000024 ...,  0.          0.00000001  0.        ]\n",
      " [ 0.          0.          0.         ...,  0.          0.          0.        ]\n",
      " [ 0.00040797  0.00000187  0.00000937 ...,  0.00127229  0.00008565\n",
      "   0.00028505]\n",
      " ..., \n",
      " [ 0.00000004  0.00000001  0.         ...,  0.          0.          0.        ]\n",
      " [ 0.0000868   0.00000001  0.00000819 ...,  0.00000051  0.00000012\n",
      "   0.00005823]\n",
      " [ 0.00000106  0.00000302  0.         ...,  0.00000013  0.          0.00000002]]\n"
     ]
    },
    {
     "name": "stderr",
     "output_type": "stream",
     "text": [
      "INFO:tensorflow:probabilities = [[ 0.00000036  0.00000011  0.00000024 ...,  0.          0.00000001  0.        ]\n",
      " [ 0.          0.          0.         ...,  0.          0.          0.        ]\n",
      " [ 0.00040797  0.00000187  0.00000937 ...,  0.00127229  0.00008565\n",
      "   0.00028505]\n",
      " ..., \n",
      " [ 0.00000004  0.00000001  0.         ...,  0.          0.          0.        ]\n",
      " [ 0.0000868   0.00000001  0.00000819 ...,  0.00000051  0.00000012\n",
      "   0.00005823]\n",
      " [ 0.00000106  0.00000302  0.         ...,  0.00000013  0.          0.00000002]]\n"
     ]
    },
    {
     "name": "stdout",
     "output_type": "stream",
     "text": [
      "INFO:tensorflow:loss = 0.044996, step = 2001\n"
     ]
    },
    {
     "name": "stderr",
     "output_type": "stream",
     "text": [
      "INFO:tensorflow:loss = 0.044996, step = 2001\n"
     ]
    },
    {
     "name": "stdout",
     "output_type": "stream",
     "text": [
      "INFO:tensorflow:global_step/sec: 3.73404\n"
     ]
    },
    {
     "name": "stderr",
     "output_type": "stream",
     "text": [
      "INFO:tensorflow:global_step/sec: 3.73404\n"
     ]
    },
    {
     "name": "stdout",
     "output_type": "stream",
     "text": [
      "INFO:tensorflow:probabilities = [[ 0.00000206  0.00001305  0.00000109 ...,  0.00000596  0.00000015\n",
      "   0.00000036]\n",
      " [ 0.00001712  0.00000004  0.00002382 ...,  0.0000623   0.00000529\n",
      "   0.00004078]\n",
      " [ 0.          0.00000018  0.00000034 ...,  0.00001492  0.00000275\n",
      "   0.00000284]\n",
      " ..., \n",
      " [ 0.00000389  0.00004887  0.00000023 ...,  0.00000004  0.00000002\n",
      "   0.00046813]\n",
      " [ 0.          0.          0.         ...,  0.00000007  0.          0.        ]\n",
      " [ 0.00000001  0.00000041  0.00000018 ...,  0.00000034  0.00000236\n",
      "   0.00000003]] (26.783 sec)\n"
     ]
    },
    {
     "name": "stderr",
     "output_type": "stream",
     "text": [
      "INFO:tensorflow:probabilities = [[ 0.00000206  0.00001305  0.00000109 ...,  0.00000596  0.00000015\n",
      "   0.00000036]\n",
      " [ 0.00001712  0.00000004  0.00002382 ...,  0.0000623   0.00000529\n",
      "   0.00004078]\n",
      " [ 0.          0.00000018  0.00000034 ...,  0.00001492  0.00000275\n",
      "   0.00000284]\n",
      " ..., \n",
      " [ 0.00000389  0.00004887  0.00000023 ...,  0.00000004  0.00000002\n",
      "   0.00046813]\n",
      " [ 0.          0.          0.         ...,  0.00000007  0.          0.        ]\n",
      " [ 0.00000001  0.00000041  0.00000018 ...,  0.00000034  0.00000236\n",
      "   0.00000003]] (26.783 sec)\n"
     ]
    },
    {
     "name": "stdout",
     "output_type": "stream",
     "text": [
      "INFO:tensorflow:loss = 0.0360917, step = 2101 (26.783 sec)\n"
     ]
    },
    {
     "name": "stderr",
     "output_type": "stream",
     "text": [
      "INFO:tensorflow:loss = 0.0360917, step = 2101 (26.783 sec)\n"
     ]
    },
    {
     "name": "stdout",
     "output_type": "stream",
     "text": [
      "INFO:tensorflow:global_step/sec: 3.68867\n"
     ]
    },
    {
     "name": "stderr",
     "output_type": "stream",
     "text": [
      "INFO:tensorflow:global_step/sec: 3.68867\n"
     ]
    },
    {
     "name": "stdout",
     "output_type": "stream",
     "text": [
      "INFO:tensorflow:probabilities = [[ 0.          0.          0.         ...,  0.          0.          0.        ]\n",
      " [ 0.00000044  0.          0.00000211 ...,  0.00000048  0.00000005  0.        ]\n",
      " [ 0.00000056  0.00000001  0.00000008 ...,  0.00000501  0.00000024\n",
      "   0.00000001]\n",
      " ..., \n",
      " [ 0.          0.00000002  0.         ...,  0.00000002  0.00000014\n",
      "   0.00000067]\n",
      " [ 0.00000035  0.          0.00000643 ...,  0.          0.          0.        ]\n",
      " [ 0.00007891  0.00000009  0.00000096 ...,  0.00000137  0.00000673\n",
      "   0.00000003]] (27.110 sec)\n"
     ]
    },
    {
     "name": "stderr",
     "output_type": "stream",
     "text": [
      "INFO:tensorflow:probabilities = [[ 0.          0.          0.         ...,  0.          0.          0.        ]\n",
      " [ 0.00000044  0.          0.00000211 ...,  0.00000048  0.00000005  0.        ]\n",
      " [ 0.00000056  0.00000001  0.00000008 ...,  0.00000501  0.00000024\n",
      "   0.00000001]\n",
      " ..., \n",
      " [ 0.          0.00000002  0.         ...,  0.00000002  0.00000014\n",
      "   0.00000067]\n",
      " [ 0.00000035  0.          0.00000643 ...,  0.          0.          0.        ]\n",
      " [ 0.00007891  0.00000009  0.00000096 ...,  0.00000137  0.00000673\n",
      "   0.00000003]] (27.110 sec)\n"
     ]
    },
    {
     "name": "stdout",
     "output_type": "stream",
     "text": [
      "INFO:tensorflow:loss = 0.0131007, step = 2201 (27.110 sec)\n"
     ]
    },
    {
     "name": "stderr",
     "output_type": "stream",
     "text": [
      "INFO:tensorflow:loss = 0.0131007, step = 2201 (27.110 sec)\n"
     ]
    },
    {
     "name": "stdout",
     "output_type": "stream",
     "text": [
      "INFO:tensorflow:global_step/sec: 3.68595\n"
     ]
    },
    {
     "name": "stderr",
     "output_type": "stream",
     "text": [
      "INFO:tensorflow:global_step/sec: 3.68595\n"
     ]
    },
    {
     "name": "stdout",
     "output_type": "stream",
     "text": [
      "INFO:tensorflow:probabilities = [[ 0.          0.          0.         ...,  0.          0.          0.        ]\n",
      " [ 0.00000064  0.00000003  0.00000022 ...,  0.00000004  0.00000244\n",
      "   0.00000028]\n",
      " [ 0.          0.          0.         ...,  0.          0.          0.        ]\n",
      " ..., \n",
      " [ 0.00000021  0.          0.00061409 ...,  0.          0.          0.00000005]\n",
      " [ 0.          0.00000012  0.00000002 ...,  0.00000003  0.00000002\n",
      "   0.00006605]\n",
      " [ 0.          0.00000018  0.         ...,  0.          0.00000003\n",
      "   0.00000084]] (27.130 sec)\n"
     ]
    },
    {
     "name": "stderr",
     "output_type": "stream",
     "text": [
      "INFO:tensorflow:probabilities = [[ 0.          0.          0.         ...,  0.          0.          0.        ]\n",
      " [ 0.00000064  0.00000003  0.00000022 ...,  0.00000004  0.00000244\n",
      "   0.00000028]\n",
      " [ 0.          0.          0.         ...,  0.          0.          0.        ]\n",
      " ..., \n",
      " [ 0.00000021  0.          0.00061409 ...,  0.          0.          0.00000005]\n",
      " [ 0.          0.00000012  0.00000002 ...,  0.00000003  0.00000002\n",
      "   0.00006605]\n",
      " [ 0.          0.00000018  0.         ...,  0.          0.00000003\n",
      "   0.00000084]] (27.130 sec)\n"
     ]
    },
    {
     "name": "stdout",
     "output_type": "stream",
     "text": [
      "INFO:tensorflow:loss = 0.0109647, step = 2301 (27.131 sec)\n"
     ]
    },
    {
     "name": "stderr",
     "output_type": "stream",
     "text": [
      "INFO:tensorflow:loss = 0.0109647, step = 2301 (27.131 sec)\n"
     ]
    },
    {
     "name": "stdout",
     "output_type": "stream",
     "text": [
      "INFO:tensorflow:global_step/sec: 3.6845\n"
     ]
    },
    {
     "name": "stderr",
     "output_type": "stream",
     "text": [
      "INFO:tensorflow:global_step/sec: 3.6845\n"
     ]
    },
    {
     "name": "stdout",
     "output_type": "stream",
     "text": [
      "INFO:tensorflow:probabilities = [[ 0.00000032  0.00000001  0.00000001 ...,  0.00003111  0.00005034\n",
      "   0.00032085]\n",
      " [ 0.          0.          0.         ...,  0.          0.          0.        ]\n",
      " [ 0.00000001  0.          0.00000018 ...,  0.          0.          0.        ]\n",
      " ..., \n",
      " [ 0.          0.          0.00000008 ...,  0.00000036  0.00000383\n",
      "   0.00000024]\n",
      " [ 0.00000001  0.          0.         ...,  0.          0.          0.        ]\n",
      " [ 0.          0.          0.         ...,  0.          0.          0.        ]] (27.141 sec)\n"
     ]
    },
    {
     "name": "stderr",
     "output_type": "stream",
     "text": [
      "INFO:tensorflow:probabilities = [[ 0.00000032  0.00000001  0.00000001 ...,  0.00003111  0.00005034\n",
      "   0.00032085]\n",
      " [ 0.          0.          0.         ...,  0.          0.          0.        ]\n",
      " [ 0.00000001  0.          0.00000018 ...,  0.          0.          0.        ]\n",
      " ..., \n",
      " [ 0.          0.          0.00000008 ...,  0.00000036  0.00000383\n",
      "   0.00000024]\n",
      " [ 0.00000001  0.          0.         ...,  0.          0.          0.        ]\n",
      " [ 0.          0.          0.         ...,  0.          0.          0.        ]] (27.141 sec)\n"
     ]
    },
    {
     "name": "stdout",
     "output_type": "stream",
     "text": [
      "INFO:tensorflow:loss = 0.0157732, step = 2401 (27.141 sec)\n"
     ]
    },
    {
     "name": "stderr",
     "output_type": "stream",
     "text": [
      "INFO:tensorflow:loss = 0.0157732, step = 2401 (27.141 sec)\n"
     ]
    },
    {
     "name": "stdout",
     "output_type": "stream",
     "text": [
      "INFO:tensorflow:global_step/sec: 3.68688\n"
     ]
    },
    {
     "name": "stderr",
     "output_type": "stream",
     "text": [
      "INFO:tensorflow:global_step/sec: 3.68688\n"
     ]
    },
    {
     "name": "stdout",
     "output_type": "stream",
     "text": [
      "INFO:tensorflow:probabilities = [[ 0.          0.          0.         ...,  0.          0.          0.        ]\n",
      " [ 0.00000002  0.          0.00000001 ...,  0.00000005  0.00000012  0.        ]\n",
      " [ 0.00002121  0.00000061  0.00064411 ...,  0.00000065  0.00000071\n",
      "   0.00000001]\n",
      " ..., \n",
      " [ 0.00000022  0.00013813  0.00000003 ...,  0.00000006  0.00029751\n",
      "   0.00000013]\n",
      " [ 0.00004351  0.00000014  0.000019   ...,  0.00000016  0.00000037\n",
      "   0.00000007]\n",
      " [ 0.00000073  0.00009129  0.00000225 ...,  0.00000005  0.00000005\n",
      "   0.00000018]] (27.123 sec)\n"
     ]
    },
    {
     "name": "stderr",
     "output_type": "stream",
     "text": [
      "INFO:tensorflow:probabilities = [[ 0.          0.          0.         ...,  0.          0.          0.        ]\n",
      " [ 0.00000002  0.          0.00000001 ...,  0.00000005  0.00000012  0.        ]\n",
      " [ 0.00002121  0.00000061  0.00064411 ...,  0.00000065  0.00000071\n",
      "   0.00000001]\n",
      " ..., \n",
      " [ 0.00000022  0.00013813  0.00000003 ...,  0.00000006  0.00029751\n",
      "   0.00000013]\n",
      " [ 0.00004351  0.00000014  0.000019   ...,  0.00000016  0.00000037\n",
      "   0.00000007]\n",
      " [ 0.00000073  0.00009129  0.00000225 ...,  0.00000005  0.00000005\n",
      "   0.00000018]] (27.123 sec)\n"
     ]
    },
    {
     "name": "stdout",
     "output_type": "stream",
     "text": [
      "INFO:tensorflow:loss = 0.0151329, step = 2501 (27.124 sec)\n"
     ]
    },
    {
     "name": "stderr",
     "output_type": "stream",
     "text": [
      "INFO:tensorflow:loss = 0.0151329, step = 2501 (27.124 sec)\n"
     ]
    },
    {
     "name": "stdout",
     "output_type": "stream",
     "text": [
      "INFO:tensorflow:global_step/sec: 3.64563\n"
     ]
    },
    {
     "name": "stderr",
     "output_type": "stream",
     "text": [
      "INFO:tensorflow:global_step/sec: 3.64563\n"
     ]
    },
    {
     "name": "stdout",
     "output_type": "stream",
     "text": [
      "INFO:tensorflow:probabilities = [[ 0.00000062  0.0000002   0.0000082  ...,  0.00000015  0.00000327\n",
      "   0.00000005]\n",
      " [ 0.00001093  0.          0.         ...,  0.          0.          0.00000056]\n",
      " [ 0.          0.          0.         ...,  0.00000002  0.          0.        ]\n",
      " ..., \n",
      " [ 0.          0.          0.         ...,  0.          0.          0.        ]\n",
      " [ 0.          0.          0.         ...,  0.          0.          0.        ]\n",
      " [ 0.          0.          0.         ...,  0.          0.          0.        ]] (27.430 sec)\n"
     ]
    },
    {
     "name": "stderr",
     "output_type": "stream",
     "text": [
      "INFO:tensorflow:probabilities = [[ 0.00000062  0.0000002   0.0000082  ...,  0.00000015  0.00000327\n",
      "   0.00000005]\n",
      " [ 0.00001093  0.          0.         ...,  0.          0.          0.00000056]\n",
      " [ 0.          0.          0.         ...,  0.00000002  0.          0.        ]\n",
      " ..., \n",
      " [ 0.          0.          0.         ...,  0.          0.          0.        ]\n",
      " [ 0.          0.          0.         ...,  0.          0.          0.        ]\n",
      " [ 0.          0.          0.         ...,  0.          0.          0.        ]] (27.430 sec)\n"
     ]
    },
    {
     "name": "stdout",
     "output_type": "stream",
     "text": [
      "INFO:tensorflow:loss = 0.0094381, step = 2601 (27.429 sec)\n"
     ]
    },
    {
     "name": "stderr",
     "output_type": "stream",
     "text": [
      "INFO:tensorflow:loss = 0.0094381, step = 2601 (27.429 sec)\n"
     ]
    },
    {
     "name": "stdout",
     "output_type": "stream",
     "text": [
      "INFO:tensorflow:global_step/sec: 3.66788\n"
     ]
    },
    {
     "name": "stderr",
     "output_type": "stream",
     "text": [
      "INFO:tensorflow:global_step/sec: 3.66788\n"
     ]
    },
    {
     "name": "stdout",
     "output_type": "stream",
     "text": [
      "INFO:tensorflow:probabilities = [[ 0.          0.          0.         ...,  0.          0.          0.        ]\n",
      " [ 0.00000007  0.00047619  0.00000206 ...,  0.00000154  0.00000011\n",
      "   0.00889871]\n",
      " [ 0.          0.          0.00000001 ...,  0.          0.          0.        ]\n",
      " ..., \n",
      " [ 0.00000009  0.00000042  0.00031333 ...,  0.00000951  0.00000108  0.        ]\n",
      " [ 0.          0.          0.00000006 ...,  0.00000008  0.00000384\n",
      "   0.00000001]\n",
      " [ 0.00000008  0.00000441  0.00000131 ...,  0.          0.00000049  0.        ]] (27.264 sec)\n"
     ]
    },
    {
     "name": "stderr",
     "output_type": "stream",
     "text": [
      "INFO:tensorflow:probabilities = [[ 0.          0.          0.         ...,  0.          0.          0.        ]\n",
      " [ 0.00000007  0.00047619  0.00000206 ...,  0.00000154  0.00000011\n",
      "   0.00889871]\n",
      " [ 0.          0.          0.00000001 ...,  0.          0.          0.        ]\n",
      " ..., \n",
      " [ 0.00000009  0.00000042  0.00031333 ...,  0.00000951  0.00000108  0.        ]\n",
      " [ 0.          0.          0.00000006 ...,  0.00000008  0.00000384\n",
      "   0.00000001]\n",
      " [ 0.00000008  0.00000441  0.00000131 ...,  0.          0.00000049  0.        ]] (27.264 sec)\n"
     ]
    },
    {
     "name": "stdout",
     "output_type": "stream",
     "text": [
      "INFO:tensorflow:loss = 0.0220961, step = 2701 (27.264 sec)\n"
     ]
    },
    {
     "name": "stderr",
     "output_type": "stream",
     "text": [
      "INFO:tensorflow:loss = 0.0220961, step = 2701 (27.264 sec)\n"
     ]
    },
    {
     "name": "stdout",
     "output_type": "stream",
     "text": [
      "INFO:tensorflow:global_step/sec: 3.66842\n"
     ]
    },
    {
     "name": "stderr",
     "output_type": "stream",
     "text": [
      "INFO:tensorflow:global_step/sec: 3.66842\n"
     ]
    },
    {
     "name": "stdout",
     "output_type": "stream",
     "text": [
      "INFO:tensorflow:probabilities = [[ 0.00009656  0.00002193  0.00420286 ...,  0.00003075  0.00328083\n",
      "   0.00012865]\n",
      " [ 0.          0.          0.         ...,  0.          0.          0.        ]\n",
      " [ 0.00000001  0.          0.         ...,  0.          0.          0.        ]\n",
      " ..., \n",
      " [ 0.          0.          0.         ...,  0.          0.          0.        ]\n",
      " [ 0.          0.          0.00000001 ...,  0.          0.00000002\n",
      "   0.00000002]\n",
      " [ 0.00000005  0.00000001  0.00000062 ...,  0.00000052  0.00000045\n",
      "   0.00000003]] (27.260 sec)\n"
     ]
    },
    {
     "name": "stderr",
     "output_type": "stream",
     "text": [
      "INFO:tensorflow:probabilities = [[ 0.00009656  0.00002193  0.00420286 ...,  0.00003075  0.00328083\n",
      "   0.00012865]\n",
      " [ 0.          0.          0.         ...,  0.          0.          0.        ]\n",
      " [ 0.00000001  0.          0.         ...,  0.          0.          0.        ]\n",
      " ..., \n",
      " [ 0.          0.          0.         ...,  0.          0.          0.        ]\n",
      " [ 0.          0.          0.00000001 ...,  0.          0.00000002\n",
      "   0.00000002]\n",
      " [ 0.00000005  0.00000001  0.00000062 ...,  0.00000052  0.00000045\n",
      "   0.00000003]] (27.260 sec)\n"
     ]
    },
    {
     "name": "stdout",
     "output_type": "stream",
     "text": [
      "INFO:tensorflow:loss = 0.0118932, step = 2801 (27.260 sec)\n"
     ]
    },
    {
     "name": "stderr",
     "output_type": "stream",
     "text": [
      "INFO:tensorflow:loss = 0.0118932, step = 2801 (27.260 sec)\n"
     ]
    },
    {
     "name": "stdout",
     "output_type": "stream",
     "text": [
      "INFO:tensorflow:global_step/sec: 3.63003\n"
     ]
    },
    {
     "name": "stderr",
     "output_type": "stream",
     "text": [
      "INFO:tensorflow:global_step/sec: 3.63003\n"
     ]
    },
    {
     "name": "stdout",
     "output_type": "stream",
     "text": [
      "INFO:tensorflow:probabilities = [[ 0.00000001  0.00000002  0.00000142 ...,  0.00000001  0.0000007\n",
      "   0.00000001]\n",
      " [ 0.          0.          0.         ...,  0.          0.          0.        ]\n",
      " [ 0.          0.          0.         ...,  0.          0.          0.00000013]\n",
      " ..., \n",
      " [ 0.00000047  0.          0.00001824 ...,  0.00000001  0.          0.        ]\n",
      " [ 0.          0.          0.00000001 ...,  0.          0.          0.        ]\n",
      " [ 0.99789029  0.          0.         ...,  0.00000004  0.          0.00000001]] (27.547 sec)\n"
     ]
    },
    {
     "name": "stderr",
     "output_type": "stream",
     "text": [
      "INFO:tensorflow:probabilities = [[ 0.00000001  0.00000002  0.00000142 ...,  0.00000001  0.0000007\n",
      "   0.00000001]\n",
      " [ 0.          0.          0.         ...,  0.          0.          0.        ]\n",
      " [ 0.          0.          0.         ...,  0.          0.          0.00000013]\n",
      " ..., \n",
      " [ 0.00000047  0.          0.00001824 ...,  0.00000001  0.          0.        ]\n",
      " [ 0.          0.          0.00000001 ...,  0.          0.          0.        ]\n",
      " [ 0.99789029  0.          0.         ...,  0.00000004  0.          0.00000001]] (27.547 sec)\n"
     ]
    },
    {
     "name": "stdout",
     "output_type": "stream",
     "text": [
      "INFO:tensorflow:loss = 0.0227242, step = 2901 (27.547 sec)\n"
     ]
    },
    {
     "name": "stderr",
     "output_type": "stream",
     "text": [
      "INFO:tensorflow:loss = 0.0227242, step = 2901 (27.547 sec)\n"
     ]
    },
    {
     "name": "stdout",
     "output_type": "stream",
     "text": [
      "INFO:tensorflow:global_step/sec: 3.63708\n"
     ]
    },
    {
     "name": "stderr",
     "output_type": "stream",
     "text": [
      "INFO:tensorflow:global_step/sec: 3.63708\n"
     ]
    },
    {
     "name": "stdout",
     "output_type": "stream",
     "text": [
      "INFO:tensorflow:probabilities = [[ 0.00003697  0.          0.00000039 ...,  0.00000003  0.00000007  0.        ]\n",
      " [ 0.          0.          0.         ...,  0.          0.          0.        ]\n",
      " [ 0.00011139  0.00005154  0.00000148 ...,  0.00000177  0.00038671\n",
      "   0.00060723]\n",
      " ..., \n",
      " [ 0.          0.          0.         ...,  0.          0.00000002\n",
      "   0.00000037]\n",
      " [ 0.00000003  0.00000007  0.00000083 ...,  0.00000023  0.00000001\n",
      "   0.00000016]\n",
      " [ 0.00001016  0.00000002  0.         ...,  0.00000035  0.          0.00000004]] (27.495 sec)\n"
     ]
    },
    {
     "name": "stderr",
     "output_type": "stream",
     "text": [
      "INFO:tensorflow:probabilities = [[ 0.00003697  0.          0.00000039 ...,  0.00000003  0.00000007  0.        ]\n",
      " [ 0.          0.          0.         ...,  0.          0.          0.        ]\n",
      " [ 0.00011139  0.00005154  0.00000148 ...,  0.00000177  0.00038671\n",
      "   0.00060723]\n",
      " ..., \n",
      " [ 0.          0.          0.         ...,  0.          0.00000002\n",
      "   0.00000037]\n",
      " [ 0.00000003  0.00000007  0.00000083 ...,  0.00000023  0.00000001\n",
      "   0.00000016]\n",
      " [ 0.00001016  0.00000002  0.         ...,  0.00000035  0.          0.00000004]] (27.495 sec)\n"
     ]
    },
    {
     "name": "stdout",
     "output_type": "stream",
     "text": [
      "INFO:tensorflow:loss = 0.0106524, step = 3001 (27.495 sec)\n"
     ]
    },
    {
     "name": "stderr",
     "output_type": "stream",
     "text": [
      "INFO:tensorflow:loss = 0.0106524, step = 3001 (27.495 sec)\n"
     ]
    },
    {
     "name": "stdout",
     "output_type": "stream",
     "text": [
      "INFO:tensorflow:global_step/sec: 3.64785\n"
     ]
    },
    {
     "name": "stderr",
     "output_type": "stream",
     "text": [
      "INFO:tensorflow:global_step/sec: 3.64785\n"
     ]
    },
    {
     "name": "stdout",
     "output_type": "stream",
     "text": [
      "INFO:tensorflow:probabilities = [[ 0.00000003  0.00000001  0.00000003 ...,  0.          0.00000001\n",
      "   0.00000197]\n",
      " [ 0.          0.          0.         ...,  0.          0.          0.        ]\n",
      " [ 0.00008889  0.00000585  0.00001573 ...,  0.00000231  0.00000002\n",
      "   0.00001042]\n",
      " ..., \n",
      " [ 0.          0.00000061  0.00000003 ...,  0.00000011  0.00000012  0.        ]\n",
      " [ 0.          0.          0.         ...,  0.00000002  0.00000003  0.        ]\n",
      " [ 0.          0.          0.         ...,  0.          0.          0.00000001]] (27.413 sec)\n"
     ]
    },
    {
     "name": "stderr",
     "output_type": "stream",
     "text": [
      "INFO:tensorflow:probabilities = [[ 0.00000003  0.00000001  0.00000003 ...,  0.          0.00000001\n",
      "   0.00000197]\n",
      " [ 0.          0.          0.         ...,  0.          0.          0.        ]\n",
      " [ 0.00008889  0.00000585  0.00001573 ...,  0.00000231  0.00000002\n",
      "   0.00001042]\n",
      " ..., \n",
      " [ 0.          0.00000061  0.00000003 ...,  0.00000011  0.00000012  0.        ]\n",
      " [ 0.          0.          0.         ...,  0.00000002  0.00000003  0.        ]\n",
      " [ 0.          0.          0.         ...,  0.          0.          0.00000001]] (27.413 sec)\n"
     ]
    },
    {
     "name": "stdout",
     "output_type": "stream",
     "text": [
      "INFO:tensorflow:loss = 0.0181702, step = 3101 (27.414 sec)\n"
     ]
    },
    {
     "name": "stderr",
     "output_type": "stream",
     "text": [
      "INFO:tensorflow:loss = 0.0181702, step = 3101 (27.414 sec)\n"
     ]
    },
    {
     "name": "stdout",
     "output_type": "stream",
     "text": [
      "INFO:tensorflow:global_step/sec: 3.7054\n"
     ]
    },
    {
     "name": "stderr",
     "output_type": "stream",
     "text": [
      "INFO:tensorflow:global_step/sec: 3.7054\n"
     ]
    },
    {
     "name": "stdout",
     "output_type": "stream",
     "text": [
      "INFO:tensorflow:probabilities = [[ 0.          0.          0.         ...,  0.          0.          0.        ]\n",
      " [ 0.          0.          0.         ...,  0.          0.          0.        ]\n",
      " [ 0.00000001  0.          0.         ...,  0.          0.          0.        ]\n",
      " ..., \n",
      " [ 0.00000004  0.          0.00000001 ...,  0.          0.          0.00000002]\n",
      " [ 0.          0.          0.         ...,  0.          0.          0.        ]\n",
      " [ 0.0000024   0.00000001  0.00000051 ...,  0.0000001   0.00000006\n",
      "   0.00000002]] (26.987 sec)\n"
     ]
    },
    {
     "name": "stderr",
     "output_type": "stream",
     "text": [
      "INFO:tensorflow:probabilities = [[ 0.          0.          0.         ...,  0.          0.          0.        ]\n",
      " [ 0.          0.          0.         ...,  0.          0.          0.        ]\n",
      " [ 0.00000001  0.          0.         ...,  0.          0.          0.        ]\n",
      " ..., \n",
      " [ 0.00000004  0.          0.00000001 ...,  0.          0.          0.00000002]\n",
      " [ 0.          0.          0.         ...,  0.          0.          0.        ]\n",
      " [ 0.0000024   0.00000001  0.00000051 ...,  0.0000001   0.00000006\n",
      "   0.00000002]] (26.987 sec)\n"
     ]
    },
    {
     "name": "stdout",
     "output_type": "stream",
     "text": [
      "INFO:tensorflow:loss = 0.00526794, step = 3201 (26.988 sec)\n"
     ]
    },
    {
     "name": "stderr",
     "output_type": "stream",
     "text": [
      "INFO:tensorflow:loss = 0.00526794, step = 3201 (26.988 sec)\n"
     ]
    },
    {
     "name": "stdout",
     "output_type": "stream",
     "text": [
      "INFO:tensorflow:global_step/sec: 3.6951\n"
     ]
    },
    {
     "name": "stderr",
     "output_type": "stream",
     "text": [
      "INFO:tensorflow:global_step/sec: 3.6951\n"
     ]
    },
    {
     "name": "stdout",
     "output_type": "stream",
     "text": [
      "INFO:tensorflow:probabilities = [[ 0.00000001  0.00000004  0.00000003 ...,  0.00000027  0.00000003\n",
      "   0.00000009]\n",
      " [ 0.          0.          0.00001339 ...,  0.          0.          0.        ]\n",
      " [ 0.00001874  0.00000269  0.00000304 ...,  0.00000753  0.0002773\n",
      "   0.00000928]\n",
      " ..., \n",
      " [ 0.          0.          0.         ...,  0.          0.          0.        ]\n",
      " [ 0.          0.          0.00000042 ...,  0.00000004  0.00000024\n",
      "   0.00000896]\n",
      " [ 0.          0.          0.00000099 ...,  0.00000006  0.          0.        ]] (27.063 sec)\n"
     ]
    },
    {
     "name": "stderr",
     "output_type": "stream",
     "text": [
      "INFO:tensorflow:probabilities = [[ 0.00000001  0.00000004  0.00000003 ...,  0.00000027  0.00000003\n",
      "   0.00000009]\n",
      " [ 0.          0.          0.00001339 ...,  0.          0.          0.        ]\n",
      " [ 0.00001874  0.00000269  0.00000304 ...,  0.00000753  0.0002773\n",
      "   0.00000928]\n",
      " ..., \n",
      " [ 0.          0.          0.         ...,  0.          0.          0.        ]\n",
      " [ 0.          0.          0.00000042 ...,  0.00000004  0.00000024\n",
      "   0.00000896]\n",
      " [ 0.          0.          0.00000099 ...,  0.00000006  0.          0.        ]] (27.063 sec)\n"
     ]
    },
    {
     "name": "stdout",
     "output_type": "stream",
     "text": [
      "INFO:tensorflow:loss = 0.00693612, step = 3301 (27.062 sec)\n"
     ]
    },
    {
     "name": "stderr",
     "output_type": "stream",
     "text": [
      "INFO:tensorflow:loss = 0.00693612, step = 3301 (27.062 sec)\n"
     ]
    },
    {
     "name": "stdout",
     "output_type": "stream",
     "text": [
      "INFO:tensorflow:global_step/sec: 3.69546\n"
     ]
    },
    {
     "name": "stderr",
     "output_type": "stream",
     "text": [
      "INFO:tensorflow:global_step/sec: 3.69546\n"
     ]
    },
    {
     "name": "stdout",
     "output_type": "stream",
     "text": [
      "INFO:tensorflow:probabilities = [[ 0.          0.          0.00000065 ...,  0.          0.          0.        ]\n",
      " [ 0.          0.          0.         ...,  0.00000003  0.          0.00000001]\n",
      " [ 0.00003383  0.00000004  0.00000298 ...,  0.00000032  0.          0.        ]\n",
      " ..., \n",
      " [ 0.0000298   0.00003259  0.00003436 ...,  0.00214995  0.00015089\n",
      "   0.00000469]\n",
      " [ 0.00000002  0.000102    0.         ...,  0.0000018   0.          0.00000039]\n",
      " [ 0.          0.          0.00000002 ...,  0.          0.00000001\n",
      "   0.00000002]] (27.060 sec)\n"
     ]
    },
    {
     "name": "stderr",
     "output_type": "stream",
     "text": [
      "INFO:tensorflow:probabilities = [[ 0.          0.          0.00000065 ...,  0.          0.          0.        ]\n",
      " [ 0.          0.          0.         ...,  0.00000003  0.          0.00000001]\n",
      " [ 0.00003383  0.00000004  0.00000298 ...,  0.00000032  0.          0.        ]\n",
      " ..., \n",
      " [ 0.0000298   0.00003259  0.00003436 ...,  0.00214995  0.00015089\n",
      "   0.00000469]\n",
      " [ 0.00000002  0.000102    0.         ...,  0.0000018   0.          0.00000039]\n",
      " [ 0.          0.          0.00000002 ...,  0.          0.00000001\n",
      "   0.00000002]] (27.060 sec)\n"
     ]
    },
    {
     "name": "stdout",
     "output_type": "stream",
     "text": [
      "INFO:tensorflow:loss = 0.0173673, step = 3401 (27.060 sec)\n"
     ]
    },
    {
     "name": "stderr",
     "output_type": "stream",
     "text": [
      "INFO:tensorflow:loss = 0.0173673, step = 3401 (27.060 sec)\n"
     ]
    },
    {
     "name": "stdout",
     "output_type": "stream",
     "text": [
      "INFO:tensorflow:global_step/sec: 3.69689\n"
     ]
    },
    {
     "name": "stderr",
     "output_type": "stream",
     "text": [
      "INFO:tensorflow:global_step/sec: 3.69689\n"
     ]
    },
    {
     "name": "stdout",
     "output_type": "stream",
     "text": [
      "INFO:tensorflow:probabilities = [[ 0.00000025  0.          0.00214592 ...,  0.00000007  0.00000039  0.        ]\n",
      " [ 0.00000001  0.00000005  0.00000036 ...,  0.          0.0000007\n",
      "   0.00001348]\n",
      " [ 0.00253018  0.00000234  0.0006067  ...,  0.00005725  0.99253547\n",
      "   0.00000006]\n",
      " ..., \n",
      " [ 0.00000151  0.00000011  0.00000003 ...,  0.00000001  0.          0.00000007]\n",
      " [ 0.00000168  0.0000001   0.00000247 ...,  0.00000289  0.00000373\n",
      "   0.00000001]\n",
      " [ 0.          0.          0.         ...,  0.          0.          0.        ]] (27.050 sec)\n"
     ]
    },
    {
     "name": "stderr",
     "output_type": "stream",
     "text": [
      "INFO:tensorflow:probabilities = [[ 0.00000025  0.          0.00214592 ...,  0.00000007  0.00000039  0.        ]\n",
      " [ 0.00000001  0.00000005  0.00000036 ...,  0.          0.0000007\n",
      "   0.00001348]\n",
      " [ 0.00253018  0.00000234  0.0006067  ...,  0.00005725  0.99253547\n",
      "   0.00000006]\n",
      " ..., \n",
      " [ 0.00000151  0.00000011  0.00000003 ...,  0.00000001  0.          0.00000007]\n",
      " [ 0.00000168  0.0000001   0.00000247 ...,  0.00000289  0.00000373\n",
      "   0.00000001]\n",
      " [ 0.          0.          0.         ...,  0.          0.          0.        ]] (27.050 sec)\n"
     ]
    },
    {
     "name": "stdout",
     "output_type": "stream",
     "text": [
      "INFO:tensorflow:loss = 0.0173539, step = 3501 (27.051 sec)\n"
     ]
    },
    {
     "name": "stderr",
     "output_type": "stream",
     "text": [
      "INFO:tensorflow:loss = 0.0173539, step = 3501 (27.051 sec)\n"
     ]
    },
    {
     "name": "stdout",
     "output_type": "stream",
     "text": [
      "INFO:tensorflow:global_step/sec: 3.71792\n"
     ]
    },
    {
     "name": "stderr",
     "output_type": "stream",
     "text": [
      "INFO:tensorflow:global_step/sec: 3.71792\n"
     ]
    },
    {
     "name": "stdout",
     "output_type": "stream",
     "text": [
      "INFO:tensorflow:probabilities = [[ 0.          0.          0.         ...,  0.          0.          0.        ]\n",
      " [ 0.          0.          0.         ...,  0.          0.          0.        ]\n",
      " [ 0.          0.00000302  0.         ...,  0.          0.          0.00000003]\n",
      " ..., \n",
      " [ 0.00000164  0.00000113  0.0000013  ...,  0.00000056  0.00000108\n",
      "   0.00000036]\n",
      " [ 0.          0.          0.         ...,  0.          0.          0.        ]\n",
      " [ 0.00000279  0.          0.         ...,  0.          0.          0.        ]] (26.896 sec)\n"
     ]
    },
    {
     "name": "stderr",
     "output_type": "stream",
     "text": [
      "INFO:tensorflow:probabilities = [[ 0.          0.          0.         ...,  0.          0.          0.        ]\n",
      " [ 0.          0.          0.         ...,  0.          0.          0.        ]\n",
      " [ 0.          0.00000302  0.         ...,  0.          0.          0.00000003]\n",
      " ..., \n",
      " [ 0.00000164  0.00000113  0.0000013  ...,  0.00000056  0.00000108\n",
      "   0.00000036]\n",
      " [ 0.          0.          0.         ...,  0.          0.          0.        ]\n",
      " [ 0.00000279  0.          0.         ...,  0.          0.          0.        ]] (26.896 sec)\n"
     ]
    },
    {
     "name": "stdout",
     "output_type": "stream",
     "text": [
      "INFO:tensorflow:loss = 0.00390628, step = 3601 (26.897 sec)\n"
     ]
    },
    {
     "name": "stderr",
     "output_type": "stream",
     "text": [
      "INFO:tensorflow:loss = 0.00390628, step = 3601 (26.897 sec)\n"
     ]
    },
    {
     "name": "stdout",
     "output_type": "stream",
     "text": [
      "INFO:tensorflow:global_step/sec: 3.72046\n"
     ]
    },
    {
     "name": "stderr",
     "output_type": "stream",
     "text": [
      "INFO:tensorflow:global_step/sec: 3.72046\n"
     ]
    },
    {
     "name": "stdout",
     "output_type": "stream",
     "text": [
      "INFO:tensorflow:probabilities = [[ 0.00000003  0.          0.00000008 ...,  0.          0.00000004\n",
      "   0.00000001]\n",
      " [ 0.          0.          0.00000002 ...,  0.00000003  0.          0.        ]\n",
      " [ 0.0000003   0.00000047  0.00000077 ...,  0.00000001  0.00000004\n",
      "   0.00006136]\n",
      " ..., \n",
      " [ 0.00000003  0.00000007  0.         ...,  0.          0.          0.00000001]\n",
      " [ 0.00002704  0.00000003  0.0000068  ...,  0.00000765  0.00011773\n",
      "   0.00000001]\n",
      " [ 0.          0.          0.         ...,  0.          0.          0.        ]] (26.879 sec)\n"
     ]
    },
    {
     "name": "stderr",
     "output_type": "stream",
     "text": [
      "INFO:tensorflow:probabilities = [[ 0.00000003  0.          0.00000008 ...,  0.          0.00000004\n",
      "   0.00000001]\n",
      " [ 0.          0.          0.00000002 ...,  0.00000003  0.          0.        ]\n",
      " [ 0.0000003   0.00000047  0.00000077 ...,  0.00000001  0.00000004\n",
      "   0.00006136]\n",
      " ..., \n",
      " [ 0.00000003  0.00000007  0.         ...,  0.          0.          0.00000001]\n",
      " [ 0.00002704  0.00000003  0.0000068  ...,  0.00000765  0.00011773\n",
      "   0.00000001]\n",
      " [ 0.          0.          0.         ...,  0.          0.          0.        ]] (26.879 sec)\n"
     ]
    },
    {
     "name": "stdout",
     "output_type": "stream",
     "text": [
      "INFO:tensorflow:loss = 0.004653, step = 3701 (26.879 sec)\n"
     ]
    },
    {
     "name": "stderr",
     "output_type": "stream",
     "text": [
      "INFO:tensorflow:loss = 0.004653, step = 3701 (26.879 sec)\n"
     ]
    },
    {
     "name": "stdout",
     "output_type": "stream",
     "text": [
      "INFO:tensorflow:global_step/sec: 3.7186\n"
     ]
    },
    {
     "name": "stderr",
     "output_type": "stream",
     "text": [
      "INFO:tensorflow:global_step/sec: 3.7186\n"
     ]
    },
    {
     "name": "stdout",
     "output_type": "stream",
     "text": [
      "INFO:tensorflow:probabilities = [[ 0.          0.          0.         ...,  0.          0.          0.        ]\n",
      " [ 0.          0.          0.         ...,  0.          0.          0.00000004]\n",
      " [ 0.          0.          0.99999988 ...,  0.          0.          0.        ]\n",
      " ..., \n",
      " [ 0.          0.          0.         ...,  0.          0.          0.        ]\n",
      " [ 0.00000062  0.00000009  0.00000025 ...,  0.00000006  0.0003328\n",
      "   0.00002678]\n",
      " [ 0.0000009   0.00000834  0.         ...,  0.00000001  0.00000016  0.        ]] (26.892 sec)\n"
     ]
    },
    {
     "name": "stderr",
     "output_type": "stream",
     "text": [
      "INFO:tensorflow:probabilities = [[ 0.          0.          0.         ...,  0.          0.          0.        ]\n",
      " [ 0.          0.          0.         ...,  0.          0.          0.00000004]\n",
      " [ 0.          0.          0.99999988 ...,  0.          0.          0.        ]\n",
      " ..., \n",
      " [ 0.          0.          0.         ...,  0.          0.          0.        ]\n",
      " [ 0.00000062  0.00000009  0.00000025 ...,  0.00000006  0.0003328\n",
      "   0.00002678]\n",
      " [ 0.0000009   0.00000834  0.         ...,  0.00000001  0.00000016  0.        ]] (26.892 sec)\n"
     ]
    },
    {
     "name": "stdout",
     "output_type": "stream",
     "text": [
      "INFO:tensorflow:loss = 0.00983889, step = 3801 (26.891 sec)\n"
     ]
    },
    {
     "name": "stderr",
     "output_type": "stream",
     "text": [
      "INFO:tensorflow:loss = 0.00983889, step = 3801 (26.891 sec)\n"
     ]
    },
    {
     "name": "stdout",
     "output_type": "stream",
     "text": [
      "INFO:tensorflow:global_step/sec: 3.71689\n"
     ]
    },
    {
     "name": "stderr",
     "output_type": "stream",
     "text": [
      "INFO:tensorflow:global_step/sec: 3.71689\n"
     ]
    },
    {
     "name": "stdout",
     "output_type": "stream",
     "text": [
      "INFO:tensorflow:probabilities = [[ 0.00000011  0.          0.0000035  ...,  0.00000006  0.00000006  0.        ]\n",
      " [ 0.          0.          0.         ...,  0.          0.          0.        ]\n",
      " [ 0.          0.          0.         ...,  0.          0.          0.        ]\n",
      " ..., \n",
      " [ 0.0000143   0.00000007  0.         ...,  0.00000114  0.00000041\n",
      "   0.00000148]\n",
      " [ 0.          0.          0.         ...,  0.          0.          0.        ]\n",
      " [ 0.00000049  0.00000444  0.00000003 ...,  0.00000342  0.0000477\n",
      "   0.00000102]] (26.904 sec)\n"
     ]
    },
    {
     "name": "stderr",
     "output_type": "stream",
     "text": [
      "INFO:tensorflow:probabilities = [[ 0.00000011  0.          0.0000035  ...,  0.00000006  0.00000006  0.        ]\n",
      " [ 0.          0.          0.         ...,  0.          0.          0.        ]\n",
      " [ 0.          0.          0.         ...,  0.          0.          0.        ]\n",
      " ..., \n",
      " [ 0.0000143   0.00000007  0.         ...,  0.00000114  0.00000041\n",
      "   0.00000148]\n",
      " [ 0.          0.          0.         ...,  0.          0.          0.        ]\n",
      " [ 0.00000049  0.00000444  0.00000003 ...,  0.00000342  0.0000477\n",
      "   0.00000102]] (26.904 sec)\n"
     ]
    },
    {
     "name": "stdout",
     "output_type": "stream",
     "text": [
      "INFO:tensorflow:loss = 0.00941517, step = 3901 (26.903 sec)\n"
     ]
    },
    {
     "name": "stderr",
     "output_type": "stream",
     "text": [
      "INFO:tensorflow:loss = 0.00941517, step = 3901 (26.903 sec)\n"
     ]
    },
    {
     "name": "stdout",
     "output_type": "stream",
     "text": [
      "INFO:tensorflow:Saving checkpoints for 4000 into ./tmp/model_data/model.ckpt.\n"
     ]
    },
    {
     "name": "stderr",
     "output_type": "stream",
     "text": [
      "INFO:tensorflow:Saving checkpoints for 4000 into ./tmp/model_data/model.ckpt.\n"
     ]
    },
    {
     "name": "stdout",
     "output_type": "stream",
     "text": [
      "INFO:tensorflow:Loss for final step: 0.00614566.\n"
     ]
    },
    {
     "name": "stderr",
     "output_type": "stream",
     "text": [
      "INFO:tensorflow:Loss for final step: 0.00614566.\n"
     ]
    },
    {
     "name": "stdout",
     "output_type": "stream",
     "text": [
      "Evaluating the model...\n",
      "INFO:tensorflow:Starting evaluation at 2017-11-16-06:49:16\n"
     ]
    },
    {
     "name": "stderr",
     "output_type": "stream",
     "text": [
      "INFO:tensorflow:Starting evaluation at 2017-11-16-06:49:16\n"
     ]
    },
    {
     "name": "stdout",
     "output_type": "stream",
     "text": [
      "INFO:tensorflow:Restoring parameters from ./tmp/model_data/model.ckpt-4000\n"
     ]
    },
    {
     "name": "stderr",
     "output_type": "stream",
     "text": [
      "INFO:tensorflow:Restoring parameters from ./tmp/model_data/model.ckpt-4000\n"
     ]
    },
    {
     "name": "stdout",
     "output_type": "stream",
     "text": [
      "INFO:tensorflow:Finished evaluation at 2017-11-16-06:49:18\n"
     ]
    },
    {
     "name": "stderr",
     "output_type": "stream",
     "text": [
      "INFO:tensorflow:Finished evaluation at 2017-11-16-06:49:18\n"
     ]
    },
    {
     "name": "stdout",
     "output_type": "stream",
     "text": [
      "INFO:tensorflow:Saving dict for global step 4000: accuracy = 0.036, global_step = 4000, loss = 9.22628\n"
     ]
    },
    {
     "name": "stderr",
     "output_type": "stream",
     "text": [
      "INFO:tensorflow:Saving dict for global step 4000: accuracy = 0.036, global_step = 4000, loss = 9.22628\n"
     ]
    },
    {
     "name": "stdout",
     "output_type": "stream",
     "text": [
      "{'accuracy': 0.035999998, 'loss': 9.2262764, 'global_step': 4000}\n"
     ]
    },
    {
     "ename": "SystemExit",
     "evalue": "",
     "output_type": "error",
     "traceback": [
      "An exception has occurred, use %tb to see the full traceback.\n",
      "\u001b[0;31mSystemExit\u001b[0m\n"
     ]
    },
    {
     "name": "stderr",
     "output_type": "stream",
     "text": [
      "/home/raghavan/anaconda3/lib/python3.6/site-packages/IPython/core/interactiveshell.py:2870: UserWarning: To exit: use 'exit', 'quit', or Ctrl-D.\n",
      "  warn(\"To exit: use 'exit', 'quit', or Ctrl-D.\", stacklevel=1)\n"
     ]
    }
   ],
   "source": [
    "# %load cnn_classifier.py\n",
    "from __future__ import absolute_import\n",
    "from __future__ import division\n",
    "from __future__ import print_function\n",
    "\n",
    "from os.path import join\n",
    "from image_reader import read_image\n",
    "from tqdm import tqdm\n",
    "\n",
    "import deep_neural_network as network\n",
    "import pandas as pd\n",
    "import numpy as np\n",
    "import tensorflow as tf\n",
    "\n",
    "tf.logging.set_verbosity(tf.logging.INFO)\n",
    "READ_DATA_FROM_FILE = True\n",
    "\n",
    "\n",
    "def main(unused_argv):\n",
    "    data_dict = pd.read_csv('./data/data_dict.csv')\n",
    "    # Loading the data\n",
    "    train_data = data_dict[data_dict[\"type\"] == \"train\"][[\"file_name\", \"breed_name\"]].copy()\n",
    "    test_data = data_dict[data_dict[\"type\"] == \"test\"][[\"file_name\", \"breed_name\"]].copy()\n",
    "    labels = data_dict[\"breed_name\"].unique()\n",
    "    label_mapping = {}\n",
    "\n",
    "    count = 0\n",
    "    for label in labels:\n",
    "        label_mapping[label] = count\n",
    "        count += 1\n",
    "    del count\n",
    "\n",
    "    # Due to CPU and memory constraint using less number of training data\n",
    "    train_data = train_data.sample(2000)\n",
    "    test_data = test_data.sample(500)\n",
    "\n",
    "    x_train = x_test = None\n",
    "    y_train = y_test = []\n",
    "\n",
    "    if READ_DATA_FROM_FILE:\n",
    "        # Loading data from file\n",
    "        x_train = np.load(\"data/train_data_x.npy\")\n",
    "        y_train = np.load(\"data/train_data_y.npy\")\n",
    "        x_test = np.load(\"data/test_data_x.npy\")\n",
    "        y_test = np.load(\"data/test_data_y.npy\")\n",
    "    else:\n",
    "        with tqdm(total=train_data.shape[0], desc=\"Reading train data\") as pbar:\n",
    "            for row in train_data.itertuples():\n",
    "                folder_name = row.file_name.split(\"_\")[0] + \"-\" + row.breed_name\n",
    "                img_data = read_image(join(\"./data\", \"Images\", folder_name, \"%s.jpg\" % row.file_name), (100, 100))\n",
    "                if x_train is None:\n",
    "                    x_train = [img_data]\n",
    "                else:\n",
    "                    x_train = np.append(x_train, [img_data], axis=0)\n",
    "                y_train = np.append(y_train, label_mapping[row.breed_name])\n",
    "                pbar.update(1)\n",
    "\n",
    "        with tqdm(total=test_data.shape[0], desc=\"Reading test data\") as pbar:\n",
    "            for row in test_data.itertuples():\n",
    "                folder_name = row.file_name.split(\"_\")[0] + \"-\" + row.breed_name\n",
    "                img_data = read_image(join(\"./data\", \"Images\", folder_name, \"%s.jpg\" % row.file_name), (100, 100))\n",
    "                if x_test is None:\n",
    "                    x_test = [img_data]\n",
    "                else:\n",
    "                    x_test = np.append(x_test, [img_data], axis=0)\n",
    "\n",
    "                y_test = np.append(y_test, label_mapping[row.breed_name])\n",
    "                pbar.update(1)\n",
    "\n",
    "        # Writing the train and test data to a file\n",
    "        np.save(\"data/train_data_x.npy\", x_train)\n",
    "        np.save(\"data/train_data_y.npy\", y_train)\n",
    "        np.save(\"data/test_data_x.npy\", x_test)\n",
    "        np.save(\"data/test_data_y.npy\", y_test)\n",
    "\n",
    "    # Creating estimator\n",
    "    classifier = tf.estimator.Estimator(\n",
    "        model_fn=network.create_cnn_model,\n",
    "        model_dir=\"./tmp/model_data\"\n",
    "    )\n",
    "\n",
    "    # Setting up logging for predictions\n",
    "    tensors_to_log = {\n",
    "        \"probabilities\": \"softmax_tensor\"\n",
    "    }\n",
    "    logging_hook = tf.train.LoggingTensorHook(\n",
    "        tensors=tensors_to_log,\n",
    "        every_n_iter=100\n",
    "    )\n",
    "\n",
    "    # Training the model\n",
    "    print(\"Training the model...\")\n",
    "    train_input_fn = tf.estimator.inputs.numpy_input_fn(\n",
    "        x={\"x\": x_train},\n",
    "        y=y_train,\n",
    "        batch_size=100,\n",
    "        num_epochs=None,\n",
    "        shuffle=True)\n",
    "    classifier.train(\n",
    "        input_fn=train_input_fn,\n",
    "        steps=2000,\n",
    "        hooks=[logging_hook])\n",
    "\n",
    "    # Evaluate the model and print results\n",
    "    print(\"Evaluating the model...\")\n",
    "    eval_input_fn = tf.estimator.inputs.numpy_input_fn(\n",
    "        x={\"x\": x_test},\n",
    "        y=y_test,\n",
    "        num_epochs=1,\n",
    "        shuffle=False)\n",
    "    eval_results = classifier.evaluate(input_fn=eval_input_fn)\n",
    "    print(eval_results)\n",
    "\n",
    "\n",
    "if __name__ == \"__main__\":\n",
    "    tf.app.run()\n"
   ]
  },
  {
   "cell_type": "markdown",
   "metadata": {},
   "source": [
    "## Issues faced when implementing the model"
   ]
  },
  {
   "cell_type": "markdown",
   "metadata": {},
   "source": [
    "<p style=\"font-size: 16px\">\n",
    "    Due to the memory constraint, there was a trade-off between the quality of the image and the number of training sets. <br>\n",
    "    We were able to load only 2000 - 5000 taining images with <b>100 x 100</b> resolution or only about 500 - 1000 training images with <b>250 x 250</b> resolution from a 12000 images dataset. <br>\n",
    "    <br>\n",
    "    Even though our model is very basic model with no tuning, this had a huge imapact towards the accuracy.<br>\n",
    "    Accuracy obtained from this iteration: <b>3%</b>\n",
    "<p>"
   ]
  },
  {
   "cell_type": "markdown",
   "metadata": {},
   "source": [
    "<img src=\"data/ruff_time.jpg\">"
   ]
  }
 ],
 "metadata": {
  "kernelspec": {
   "display_name": "Python 3",
   "language": "python",
   "name": "python3"
  },
  "language_info": {
   "codemirror_mode": {
    "name": "ipython",
    "version": 3
   },
   "file_extension": ".py",
   "mimetype": "text/x-python",
   "name": "python",
   "nbconvert_exporter": "python",
   "pygments_lexer": "ipython3",
   "version": "3.6.2"
  }
 },
 "nbformat": 4,
 "nbformat_minor": 2
}
